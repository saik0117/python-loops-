{
 "cells": [
  {
   "cell_type": "markdown",
   "id": "b348d215-bc46-4fe8-a01c-bf9a66eebc93",
   "metadata": {},
   "source": [
    "# Basic level\n",
    "## for loop"
   ]
  },
  {
   "cell_type": "markdown",
   "id": "971a7467-1640-49fa-b446-9fabfc3e0948",
   "metadata": {},
   "source": [
    "## 1. Write a Python program to print the numbers from 1 to 10 using a `for` loop."
   ]
  },
  {
   "cell_type": "code",
   "execution_count": 3,
   "id": "f3bd4012-ae05-41c7-92db-b78d7a45e030",
   "metadata": {},
   "outputs": [
    {
     "name": "stdout",
     "output_type": "stream",
     "text": [
      "1\n",
      "2\n",
      "3\n",
      "4\n",
      "5\n",
      "6\n",
      "7\n",
      "8\n",
      "9\n",
      "10\n"
     ]
    }
   ],
   "source": [
    "num = 10\n",
    "for i in range(1,11):\n",
    "    print(i)"
   ]
  },
  {
   "cell_type": "markdown",
   "id": "fa0f9eb9-59e0-4c72-8d16-d85ecb5c4755",
   "metadata": {},
   "source": [
    "## 2. Create a program that calculates the sum of all numbers in a list using a `for` loop."
   ]
  },
  {
   "cell_type": "code",
   "execution_count": 7,
   "id": "9468b488-459a-40b3-92f6-d22ad1efc276",
   "metadata": {},
   "outputs": [
    {
     "name": "stdout",
     "output_type": "stream",
     "text": [
      "5050\n"
     ]
    }
   ],
   "source": [
    "sum_of_numbers = 0\n",
    "list=[0]\n",
    "for i in range(1,101):\n",
    "    sum_of_numbers=i + sum_of_numbers\n",
    "print(sum_of_numbers)    "
   ]
  },
  {
   "cell_type": "markdown",
   "id": "3a8b602a-443e-44a9-82a0-f2eccf0fad97",
   "metadata": {},
   "source": [
    "## 3.Write a program to print the characters of a string in reverse order using a `for` loop."
   ]
  },
  {
   "cell_type": "code",
   "execution_count": 4,
   "id": "29056f7a-7e4e-4cc3-a7b6-26d3246193a4",
   "metadata": {},
   "outputs": [
    {
     "name": "stdout",
     "output_type": "stream",
     "text": [
      "anhsirkias \n"
     ]
    }
   ],
   "source": [
    "string = \"saikrishna\"\n",
    "rev_str = \" \"\n",
    "for s in string:\n",
    "    rev_str = s + rev_str\n",
    "print(rev_str)"
   ]
  },
  {
   "cell_type": "markdown",
   "id": "19b5aa8b-0d77-4c0b-a998-9a0711be0b20",
   "metadata": {},
   "source": [
    "## 4.Develop a program that finds the factorial of a given number using a `for` loop."
   ]
  },
  {
   "cell_type": "code",
   "execution_count": 10,
   "id": "34b2891b-71f1-4d7c-8eaf-042a9459a180",
   "metadata": {},
   "outputs": [
    {
     "name": "stdout",
     "output_type": "stream",
     "text": [
      "720\n"
     ]
    }
   ],
   "source": [
    "fact_number = 1\n",
    "for i in range(1,7):\n",
    "    fact_number*=i\n",
    "print(fact_number)    "
   ]
  },
  {
   "cell_type": "markdown",
   "id": "f84714dc-d827-47c6-86da-238aa55df4fb",
   "metadata": {},
   "source": [
    "## 5.Create a program to print the multiplication table of a given number using a `for` loop."
   ]
  },
  {
   "cell_type": "code",
   "execution_count": 11,
   "id": "a0c8f9c8-8e2c-456f-91d5-2da7fe37979c",
   "metadata": {},
   "outputs": [
    {
     "name": "stdin",
     "output_type": "stream",
     "text": [
      "enter an integer: 8\n"
     ]
    },
    {
     "name": "stdout",
     "output_type": "stream",
     "text": [
      "8 * 1 = 8\n",
      "8 * 2 = 16\n",
      "8 * 3 = 24\n",
      "8 * 4 = 32\n",
      "8 * 5 = 40\n",
      "8 * 6 = 48\n",
      "8 * 7 = 56\n",
      "8 * 8 = 64\n",
      "8 * 9 = 72\n",
      "8 * 10 = 80\n"
     ]
    }
   ],
   "source": [
    "number = int(input(\"enter an integer:\"))\n",
    "for count in range(1,11):\n",
    "    product = number * count\n",
    "    print(number,\"*\",count,\"=\",product)"
   ]
  },
  {
   "cell_type": "markdown",
   "id": "a6621b78-1a38-4c31-bb91-a9dcaaac2394",
   "metadata": {},
   "source": [
    "## 6. Write a program that counts the number of even and odd numbers in a list using a `for` loop."
   ]
  },
  {
   "cell_type": "code",
   "execution_count": 8,
   "id": "e6d315ff-2451-45d0-9257-75dbe602ac45",
   "metadata": {},
   "outputs": [
    {
     "name": "stdout",
     "output_type": "stream",
     "text": [
      "even number in list: 4\n",
      "oddnumber in list: 5\n"
     ]
    }
   ],
   "source": [
    "list = [1,2,3,4,5,6,7,8,9]\n",
    "even_count = 0\n",
    "odd_count = 0\n",
    "for num in list:\n",
    "    if num%2==0:\n",
    "        even_count+=1\n",
    "    else:\n",
    "        odd_count+=1\n",
    "print(\"even number in list:\",even_count)\n",
    "print(\"oddnumber in list:\",odd_count)"
   ]
  },
  {
   "cell_type": "markdown",
   "id": "0fdb70ea-82b3-4235-b674-e9931220b31a",
   "metadata": {},
   "source": [
    "## 7. Develop a program that prints the squares of numbers from 1 to 5 using a `for` loop."
   ]
  },
  {
   "cell_type": "code",
   "execution_count": 10,
   "id": "b49ff58b-9a83-4aeb-947e-6a56f28b9d81",
   "metadata": {},
   "outputs": [
    {
     "name": "stdout",
     "output_type": "stream",
     "text": [
      "[0, 1, 4, 9, 16, 25]\n"
     ]
    }
   ],
   "source": [
    "squares = []\n",
    "for i in range(6):\n",
    "    squares.append(i**2)\n",
    "print([i**2 for i in range (6)])    "
   ]
  },
  {
   "cell_type": "markdown",
   "id": "bae02123-a1c1-4da5-90e2-1db6985e8ffa",
   "metadata": {},
   "source": [
    "## 8. Create a program to find the length of a string without using the `len()` function."
   ]
  },
  {
   "cell_type": "code",
   "execution_count": 4,
   "id": "ffd7838b-17f2-4d81-a729-0d476d0951f1",
   "metadata": {},
   "outputs": [
    {
     "name": "stdin",
     "output_type": "stream",
     "text": [
      "enter the string: python programming\n"
     ]
    },
    {
     "name": "stdout",
     "output_type": "stream",
     "text": [
      "length is  18\n"
     ]
    }
   ],
   "source": [
    "def string_length(my_string):\n",
    "    count = 0\n",
    "    for i in my_string:\n",
    "        count +=1\n",
    "    return count\n",
    "string_input = input(\"enter the string:\")\n",
    "length = string_length(string_input)\n",
    "print(\"length is \",length)"
   ]
  },
  {
   "cell_type": "markdown",
   "id": "fbe49efd-e57b-442a-845b-bea3c18021ce",
   "metadata": {},
   "source": [
    "## 9. Write a program that calculates the average of a list of numbers using a `for` loop."
   ]
  },
  {
   "cell_type": "code",
   "execution_count": 3,
   "id": "63d07fd6-286c-4d89-ae8d-a86027e24004",
   "metadata": {},
   "outputs": [
    {
     "name": "stdout",
     "output_type": "stream",
     "text": [
      "sum= 15\n",
      "avg= 3.0\n"
     ]
    }
   ],
   "source": [
    "list  = [1,2,3,4,5]\n",
    "sum_ =sum(list)\n",
    "avg = sum_/len(list)\n",
    "print(\"sum=\",sum_)\n",
    "print(\"avg=\",avg)"
   ]
  },
  {
   "cell_type": "markdown",
   "id": "c49d29f6-d2fe-4bff-8258-99f8254f8e29",
   "metadata": {},
   "source": [
    "## 10.Develop a program that prints the first `n` Fibonacci numbers using a `for` loop."
   ]
  },
  {
   "cell_type": "code",
   "execution_count": 4,
   "id": "5d83d615-8ffa-47d8-a04d-5e1caab28ca7",
   "metadata": {},
   "outputs": [
    {
     "name": "stdout",
     "output_type": "stream",
     "text": [
      "1\n",
      "1\n",
      "2\n",
      "3\n",
      "5\n",
      "8\n",
      "13\n",
      "21\n",
      "34\n",
      "55\n"
     ]
    }
   ],
   "source": [
    "n = 10\n",
    "n1 =0\n",
    "n2 = 1\n",
    "for i in range(10):\n",
    "    n = n1+n2\n",
    "    n1=n2\n",
    "    n2=n\n",
    "    print(n1)"
   ]
  },
  {
   "cell_type": "markdown",
   "id": "74d7d4f5-d3af-4d3a-87f4-891a92982725",
   "metadata": {},
   "source": [
    "# Intermediate Level:"
   ]
  },
  {
   "cell_type": "markdown",
   "id": "cb2f64c4-2600-48cd-a09d-b60fde521307",
   "metadata": {},
   "source": [
    "## 11. Write a program to check if a given list contains any duplicates using a `for` loop."
   ]
  },
  {
   "cell_type": "code",
   "execution_count": 14,
   "id": "719b091c-a2ef-470c-8516-b53d05748cd4",
   "metadata": {},
   "outputs": [
    {
     "name": "stdout",
     "output_type": "stream",
     "text": [
      "{40, 10, 50, 20, 60, 30}\n"
     ]
    }
   ],
   "source": [
    "a = [10,20,30,20,40,50,60,40,30,40]\n",
    "dup_item = set()\n",
    "uniq_item = []\n",
    "for x in a:\n",
    "    if x not in dup_item:\n",
    "        uniq_item.append(x)\n",
    "        dup_item.add(x)\n",
    "print(dup_item)        "
   ]
  },
  {
   "cell_type": "markdown",
   "id": "2db0fab4-06b6-4a92-b5a7-5a696355a2e1",
   "metadata": {},
   "source": [
    "## 12. Create a program that prints the prime numbers in a given range using a `for` loop."
   ]
  },
  {
   "cell_type": "code",
   "execution_count": 11,
   "id": "c3b3827b-417c-41b8-a10d-e42c5892be10",
   "metadata": {},
   "outputs": [
    {
     "name": "stdout",
     "output_type": "stream",
     "text": [
      "2 3 5 7 11 13 17 19 "
     ]
    }
   ],
   "source": [
    "for i in range(1,20):\n",
    "    count = 0\n",
    "    for j in range(2,(i//2+1)):\n",
    "        if i%j ==0:\n",
    "            count+=1\n",
    "            break\n",
    "    if count == 0 and i!=1:\n",
    "        print(i,end = ' ')"
   ]
  },
  {
   "cell_type": "markdown",
   "id": "22fc9d0f-7831-4908-9e5d-f0a576c9526b",
   "metadata": {},
   "source": [
    "## 13.Develop a program that counts the number of vowels in a string using a `for` loop."
   ]
  },
  {
   "cell_type": "code",
   "execution_count": 13,
   "id": "b590cfd7-1a9a-48e6-b5c5-abea06280e87",
   "metadata": {},
   "outputs": [
    {
     "name": "stdin",
     "output_type": "stream",
     "text": [
      "enter a string: python is easy to learn\n"
     ]
    },
    {
     "name": "stdout",
     "output_type": "stream",
     "text": [
      "total vowels count: 7\n"
     ]
    }
   ],
   "source": [
    "sentence = input(\"enter a string:\")\n",
    "sentence = sentence.lower()\n",
    "vowel_count = 0 \n",
    "for i in sentence:\n",
    "    vowels = \"aeiou\"\n",
    "    if i in vowels:\n",
    "        vowel_count = vowel_count+1\n",
    "print(\"total vowels count:\",vowel_count)"
   ]
  },
  {
   "cell_type": "markdown",
   "id": "7db08b59-e929-42db-9d02-9f1359cd7686",
   "metadata": {},
   "source": [
    "## 14.Write a program to find the maximum element in a 2D list using a nested `for` loop."
   ]
  },
  {
   "cell_type": "code",
   "execution_count": 7,
   "id": "5a278540-8cbc-48aa-8124-822de8be3ea6",
   "metadata": {},
   "outputs": [
    {
     "name": "stdout",
     "output_type": "stream",
     "text": [
      "30\n"
     ]
    }
   ],
   "source": [
    "list2= []\n",
    "def get_max(list1):\n",
    "    for i in list1:\n",
    "        if type (i) ==list:\n",
    "            get_max(i)\n",
    "        else:\n",
    "            list2.append(i)\n",
    "    return max(list2)\n",
    "list1=[7,9,[12,5,[30,15],17],7] \n",
    "print(get_max(list1))       \n",
    "            "
   ]
  },
  {
   "cell_type": "markdown",
   "id": "5139b605-4c86-4c04-9d2a-0b9ba6bba8c8",
   "metadata": {},
   "source": [
    "## 15.Create a program that removes all occurrences of a specific element from a list using a `for` loop."
   ]
  },
  {
   "cell_type": "code",
   "execution_count": 35,
   "id": "3bad381b-6858-4fc2-8b5f-78504ba5384d",
   "metadata": {},
   "outputs": [
    {
     "name": "stdout",
     "output_type": "stream",
     "text": [
      "[5, 50, 15]\n"
     ]
    }
   ],
   "source": [
    "list = [5,20,50,15,20,20]\n",
    "def remove_value(list,val):\n",
    "    return [i for i in list if i != val]\n",
    "res = remove_value(list,20)\n",
    "print(res)"
   ]
  },
  {
   "cell_type": "markdown",
   "id": "b4505771-8f4d-4599-aff6-10e8a3ab2d25",
   "metadata": {},
   "source": [
    "## 16.Develop a program that generates a multiplication table for numbers from 1 to 5 using a nested `for` loop."
   ]
  },
  {
   "cell_type": "code",
   "execution_count": 24,
   "id": "255e7497-7c97-4b24-92cd-c148c8990b11",
   "metadata": {},
   "outputs": [
    {
     "name": "stdout",
     "output_type": "stream",
     "text": [
      "1 * 1 = 1\n",
      "1 * 2 = 2\n",
      "1 * 3 = 3\n",
      "1 * 4 = 4\n",
      "1 * 5 = 5\n",
      "\n",
      "2 * 1 = 2\n",
      "2 * 2 = 4\n",
      "2 * 3 = 6\n",
      "2 * 4 = 8\n",
      "2 * 5 = 10\n",
      "\n",
      "3 * 1 = 3\n",
      "3 * 2 = 6\n",
      "3 * 3 = 9\n",
      "3 * 4 = 12\n",
      "3 * 5 = 15\n",
      "\n",
      "4 * 1 = 4\n",
      "4 * 2 = 8\n",
      "4 * 3 = 12\n",
      "4 * 4 = 16\n",
      "4 * 5 = 20\n",
      "\n",
      "5 * 1 = 5\n",
      "5 * 2 = 10\n",
      "5 * 3 = 15\n",
      "5 * 4 = 20\n",
      "5 * 5 = 25\n",
      "\n"
     ]
    }
   ],
   "source": [
    "for x in range(1,6):\n",
    "    for y in range(1,6):\n",
    "        print(x,\"*\",y, \"=\",x*y)\n",
    "    else:\n",
    "         print(\"\")     "
   ]
  },
  {
   "cell_type": "markdown",
   "id": "2ac1b097-8cdb-44e8-9a88-be6b67fde5e1",
   "metadata": {},
   "source": [
    "## 17. Write a program that converts a list of Fahrenheit temperatures to Celsius using a `for` loop."
   ]
  },
  {
   "cell_type": "code",
   "execution_count": 19,
   "id": "67507a44-31a8-46ba-90f3-c7d9912dc5cc",
   "metadata": {},
   "outputs": [
    {
     "name": "stdout",
     "output_type": "stream",
     "text": [
      "0 \t\t\t 32.000000\n",
      "1 \t\t\t 33.800000\n",
      "2 \t\t\t 35.600000\n",
      "3 \t\t\t 37.400000\n",
      "4 \t\t\t 39.200000\n",
      "5 \t\t\t 41.000000\n",
      "6 \t\t\t 42.800000\n",
      "7 \t\t\t 44.600000\n",
      "8 \t\t\t 46.400000\n",
      "9 \t\t\t 48.200000\n",
      "10 \t\t\t 50.000000\n",
      "11 \t\t\t 51.800000\n",
      "12 \t\t\t 53.600000\n",
      "13 \t\t\t 55.400000\n",
      "14 \t\t\t 57.200000\n",
      "15 \t\t\t 59.000000\n",
      "16 \t\t\t 60.800000\n",
      "17 \t\t\t 62.600000\n",
      "18 \t\t\t 64.400000\n",
      "19 \t\t\t 66.200000\n",
      "20 \t\t\t 68.000000\n"
     ]
    }
   ],
   "source": [
    "for c in range(0,21):\n",
    "    F = (1.8)* c + 32\n",
    "    print(c,\"\\t\\t\\t\",format(F,\"2f\"))"
   ]
  },
  {
   "cell_type": "markdown",
   "id": "3ee50888-1473-44f6-9139-5c114b4b2a09",
   "metadata": {},
   "source": [
    "## 18. Create a program to print the common elements from two lists using a `for` loop."
   ]
  },
  {
   "cell_type": "code",
   "execution_count": 1,
   "id": "a7069ade-8749-4121-87ca-e1150b11163e",
   "metadata": {},
   "outputs": [
    {
     "name": "stdout",
     "output_type": "stream",
     "text": [
      "5\n",
      "4\n",
      "2\n",
      "3\n",
      "6\n"
     ]
    }
   ],
   "source": [
    "list1 = [1,5,4,2,3,6]\n",
    "list2 = [2,3,4,5,6]\n",
    "for i in list1:\n",
    "    if i in list2:\n",
    "        print(i)"
   ]
  },
  {
   "cell_type": "markdown",
   "id": "192ec38c-c3b9-4912-8c44-5f565de952c9",
   "metadata": {},
   "source": [
    "## 19. Develop a program that prints the pattern of right-angled triangles using a `for` loop. Use ‘*’ to draw the pattern\n",
    "\n"
   ]
  },
  {
   "cell_type": "code",
   "execution_count": 2,
   "id": "19eb7984-e5fa-4b6b-be81-2b6e8641eba7",
   "metadata": {},
   "outputs": [
    {
     "name": "stdout",
     "output_type": "stream",
     "text": [
      "* \n",
      "* * \n",
      "* * * \n",
      "* * * * \n",
      "* * * * * \n"
     ]
    }
   ],
   "source": [
    "for i in range(5):\n",
    "    for j in range(i+1):\n",
    "        print(\"*\",end=' ')\n",
    "    print()"
   ]
  },
  {
   "cell_type": "markdown",
   "id": "328c1b01-3aa6-4cc2-af3d-3d02be991205",
   "metadata": {},
   "source": [
    "## 20. Write a program to find the greatest common divisor (GCD) of two numbers using a `for` loop."
   ]
  },
  {
   "cell_type": "code",
   "execution_count": 16,
   "id": "46473c6c-e9ae-4b83-9538-5426059cbbb8",
   "metadata": {},
   "outputs": [
    {
     "name": "stdout",
     "output_type": "stream",
     "text": [
      "50\n"
     ]
    }
   ],
   "source": [
    "x = 50\n",
    "y = 100\n",
    "if x > y:\n",
    "    x,y = y,x\n",
    "for i in range(1,x+1):\n",
    "    if x%i==0 and y%i==0:\n",
    "        greatest_common_divisor = i\n",
    "print(greatest_common_divisor)\n",
    "        "
   ]
  },
  {
   "cell_type": "markdown",
   "id": "23a57bc8-2131-450e-86ce-88250c910438",
   "metadata": {},
   "source": [
    "# Advanced Level:"
   ]
  },
  {
   "cell_type": "markdown",
   "id": "b6eff9b1-cb6a-4f89-94d5-97e3ee4fcf27",
   "metadata": {},
   "source": [
    "## 21.Create a program that calculates the sum of the digits of numbers in a list using a list comprehension."
   ]
  },
  {
   "cell_type": "code",
   "execution_count": 5,
   "id": "0cc20cf4-6373-4aec-85c1-1839492df3c8",
   "metadata": {},
   "outputs": [
    {
     "name": "stdout",
     "output_type": "stream",
     "text": [
      "45\n"
     ]
    }
   ],
   "source": [
    "list= [1,2,3,4,5,6,7,8,9]\n",
    "sum = 0\n",
    "[sum:=sum + x for x in list]\n",
    "print(sum)"
   ]
  },
  {
   "cell_type": "markdown",
   "id": "0617c61e-55ac-4ec7-9788-69bfe3b363f5",
   "metadata": {},
   "source": [
    "## 22.Write a program to find the prime factors of a given number using a `for` loop and list comprehension."
   ]
  },
  {
   "cell_type": "code",
   "execution_count": 1,
   "id": "5265d530-a535-4cac-931e-67964aa8fc6d",
   "metadata": {},
   "outputs": [
    {
     "name": "stdin",
     "output_type": "stream",
     "text": [
      "Enter a number:  456\n"
     ]
    },
    {
     "name": "stdout",
     "output_type": "stream",
     "text": [
      "The prime factors of 456 are: [2, 3, 19]\n"
     ]
    }
   ],
   "source": [
    "def is_prime(number):\n",
    "    if number <= 1:\n",
    "        return False\n",
    "    if number <= 3:\n",
    "        return True\n",
    "    if number % 2 == 0 or number % 3 == 0:\n",
    "        return False\n",
    "    i = 5\n",
    "    while i * i <= number:\n",
    "        if number % i == 0 or number % (i + 2) == 0:\n",
    "            return False\n",
    "        i += 6\n",
    "    return True\n",
    "\n",
    "def prime_factors(n):\n",
    "    factors = [x for x in range(2, n + 1) if n % x == 0 and is_prime(x)]\n",
    "    return factors\n",
    "\n",
    "number = int(input(\"Enter a number: \"))\n",
    "factors = prime_factors(number)\n",
    "\n",
    "if len(factors) == 0:\n",
    "    print(f\"{number} has no prime factors.\")\n",
    "else:\n",
    "    print(f\"The prime factors of {number} are: {factors}\")\n"
   ]
  },
  {
   "cell_type": "markdown",
   "id": "3be45999-d65e-471d-8dfa-47deeb29b56a",
   "metadata": {},
   "source": [
    "## 23. Develop a program that extracts unique elements from a list and stores them in a new list using a list comprehension.\n",
    "\n"
   ]
  },
  {
   "cell_type": "code",
   "execution_count": 2,
   "id": "78d765bb-ff9b-42f7-98e8-e07ce9fce47b",
   "metadata": {},
   "outputs": [
    {
     "name": "stdout",
     "output_type": "stream",
     "text": [
      "Original List: [1, 2, 2, 3, 4, 4, 5, 6, 6, 7]\n",
      "Unique Elements: [1, 2, 3, 4, 5, 6, 7]\n"
     ]
    }
   ],
   "source": [
    "# Input list with duplicate elements\n",
    "input_list = [1, 2, 2, 3, 4, 4, 5, 6, 6, 7]\n",
    "\n",
    "# Use list comprehension to extract unique elements\n",
    "unique_elements = [x for i, x in enumerate(input_list) if x not in input_list[:i]]\n",
    "\n",
    "# Print the unique elements\n",
    "print(\"Original List:\", input_list)\n",
    "print(\"Unique Elements:\", unique_elements)\n"
   ]
  },
  {
   "cell_type": "markdown",
   "id": "c2f649f7-a226-4600-a370-8083be5cb9f0",
   "metadata": {},
   "source": [
    "## 24.Create a program that generates a list of all palindromic numbers up to a specified limit using a list comprehension.\n"
   ]
  },
  {
   "cell_type": "code",
   "execution_count": 3,
   "id": "5d516920-f56e-439f-a083-f1af0ebf5b6f",
   "metadata": {},
   "outputs": [
    {
     "name": "stdin",
     "output_type": "stream",
     "text": [
      "Enter the limit:  1000\n"
     ]
    },
    {
     "name": "stdout",
     "output_type": "stream",
     "text": [
      "Palindromic Numbers up to 1000 are: [1, 2, 3, 4, 5, 6, 7, 8, 9, 11, 22, 33, 44, 55, 66, 77, 88, 99, 101, 111, 121, 131, 141, 151, 161, 171, 181, 191, 202, 212, 222, 232, 242, 252, 262, 272, 282, 292, 303, 313, 323, 333, 343, 353, 363, 373, 383, 393, 404, 414, 424, 434, 444, 454, 464, 474, 484, 494, 505, 515, 525, 535, 545, 555, 565, 575, 585, 595, 606, 616, 626, 636, 646, 656, 666, 676, 686, 696, 707, 717, 727, 737, 747, 757, 767, 777, 787, 797, 808, 818, 828, 838, 848, 858, 868, 878, 888, 898, 909, 919, 929, 939, 949, 959, 969, 979, 989, 999]\n"
     ]
    }
   ],
   "source": [
    "def is_palindrome(number):\n",
    "    # Convert the number to a string and check if it reads the same forwards and backwards\n",
    "    return str(number) == str(number)[::-1]\n",
    "\n",
    "# Specify the limit\n",
    "limit = int(input(\"Enter the limit: \"))\n",
    "\n",
    "# Use list comprehension to generate a list of palindromic numbers\n",
    "palindromic_numbers = [num for num in range(1, limit + 1) if is_palindrome(num)]\n",
    "\n",
    "# Print the list of palindromic numbers\n",
    "print(\"Palindromic Numbers up to\", limit, \"are:\", palindromic_numbers)"
   ]
  },
  {
   "cell_type": "markdown",
   "id": "5059b163-665d-4384-9669-eedd5af099fd",
   "metadata": {},
   "source": [
    "## 25.Write a program to flatten a nested list using list comprehension."
   ]
  },
  {
   "cell_type": "code",
   "execution_count": null,
   "id": "75bada38-7c54-4403-91db-3682e7136e4f",
   "metadata": {},
   "outputs": [
    {
     "name": "stdout",
     "output_type": "stream",
     "text": [
      "output using list comprehensions: [1, 2, 3, 4, 5, 6, 7, 8, 9, 10]\n"
     ]
    }
   ],
   "source": [
    "list = [[1,2,3],[4,5,6],[7,8,9,10]]\n",
    "new_list = [item for sublist in list for item in sublist]\n",
    "print(\"output using list comprehensions:\",new_list)"
   ]
  },
  {
   "cell_type": "code",
   "execution_count": 1,
   "id": "94b1a5a8-96fa-4549-a5c3-34006e1a7b65",
   "metadata": {},
   "outputs": [
    {
     "name": "stdout",
     "output_type": "stream",
     "text": [
      "Original Nested List: [1, [2, 3], [4, [5, 6]], 7]\n",
      "Flattened List: [1, 2, 3, 4, [5, 6], 7]\n"
     ]
    }
   ],
   "source": [
    "# Nested list with sublists\n",
    "#nested_list = [1, [2, 3], [4, [5, 6]], 7]\n",
    "\n",
    "# Use list comprehension to flatten the nested list\n",
    "#flattened_list = [item for sublist in nested_list for item in (sublist if isinstance(sublist, list) else [sublist])]\n",
    "\n",
    "# Print the flattened list\n",
    "#print(\"Original Nested List:\", nested_list)\n",
    "#print(\"Flattened List:\", flattened_list)\n"
   ]
  },
  {
   "cell_type": "markdown",
   "id": "db57bd13-5c93-4b0b-8fcd-f5fd60d49168",
   "metadata": {},
   "source": [
    "## 26.Develop a program that computes the sum of even and odd numbers in a list separately using list comprehension.\n"
   ]
  },
  {
   "cell_type": "code",
   "execution_count": 4,
   "id": "8474dc02-9f29-4aaa-9b90-0189bf7b8045",
   "metadata": {},
   "outputs": [
    {
     "name": "stdout",
     "output_type": "stream",
     "text": [
      "List of Numbers: [1, 2, 3, 4, 5, 6, 7, 8, 9, 10]\n",
      "Sum of Even Numbers: 30\n",
      "Sum of Odd Numbers: 25\n"
     ]
    }
   ],
   "source": [
    "# Input list of numbers\n",
    "numbers = [1, 2, 3, 4, 5, 6, 7, 8, 9, 10]\n",
    "\n",
    "# Use list comprehension to compute the sum of even and odd numbers separately\n",
    "even_sum = sum([x for x in numbers if x % 2 == 0])\n",
    "odd_sum = sum([x for x in numbers if x % 2 != 0])\n",
    "\n",
    "# Print the sums\n",
    "print(\"List of Numbers:\", numbers)\n",
    "print(\"Sum of Even Numbers:\", even_sum)\n",
    "print(\"Sum of Odd Numbers:\", odd_sum)\n"
   ]
  },
  {
   "cell_type": "markdown",
   "id": "cc67fbf6-f6d5-48ab-b33a-1824aef85446",
   "metadata": {},
   "source": [
    "## 27. Create a program that generates a list of squares of odd numbers between 1 and 10 using list comprehension.\n",
    "\n"
   ]
  },
  {
   "cell_type": "code",
   "execution_count": 2,
   "id": "1f0ac0ce-b9da-468a-b4e7-66c302d57031",
   "metadata": {},
   "outputs": [
    {
     "data": {
      "text/plain": [
       "[1, 9, 25, 49, 81]"
      ]
     },
     "execution_count": 2,
     "metadata": {},
     "output_type": "execute_result"
    }
   ],
   "source": [
    "list = [1,2,3,4,5,6,7,8,9,10]\n",
    "[i*i for i in list if i%2!=0]"
   ]
  },
  {
   "cell_type": "markdown",
   "id": "18f29c80-6ed5-4a1b-b82d-91c4cd4a084c",
   "metadata": {},
   "source": [
    "## 28 Write a program that combines two lists into a dictionary using list comprehension."
   ]
  },
  {
   "cell_type": "code",
   "execution_count": 1,
   "id": "73641baf-f0c0-414b-801b-b81e2078c8bc",
   "metadata": {},
   "outputs": [
    {
     "name": "stdout",
     "output_type": "stream",
     "text": [
      "{'sai': 55, 'mani': 85, 'krishna': 75, 'rajani': 82}\n",
      "{'sai': 55, 'mani': 85, 'krishna': 75, 'rajani': 82}\n"
     ]
    }
   ],
   "source": [
    "# using zip() and list comprehension \n",
    "list1 = [\"sai\",\"mani\",\"krishna\",\"rajani\"]\n",
    "list2 = [55,85,75,82]\n",
    "dictionary = zip(list1,list2)\n",
    "print(dict(dictionary))\n",
    "\n",
    "dictionary = {key :value for key ,value in zip(list1,list2)}\n",
    "print(dictionary)"
   ]
  },
  {
   "cell_type": "markdown",
   "id": "7ad48fb1-e6dc-4777-9116-8bfed7a6c4e8",
   "metadata": {},
   "source": [
    "## 29 .Develop a program that extracts the vowels from a string and stores them in a list using list comprehension."
   ]
  },
  {
   "cell_type": "code",
   "execution_count": 5,
   "id": "0f515696-1b97-4e1d-88f3-3f9f25f2e938",
   "metadata": {},
   "outputs": [
    {
     "name": "stdout",
     "output_type": "stream",
     "text": [
      "Input String: Hello, World!\n",
      "List of Vowels: ['e', 'o', 'o']\n"
     ]
    }
   ],
   "source": [
    "# Input string\n",
    "input_string = \"Hello, World!\"\n",
    "\n",
    "# Define a list of vowels\n",
    "vowels = \"AEIOUaeiou\"\n",
    "\n",
    "# Use list comprehension to extract vowels from the string\n",
    "vowel_list = [char for char in input_string if char in vowels]\n",
    "\n",
    "# Print the list of extracted vowels\n",
    "print(\"Input String:\", input_string)\n",
    "print(\"List of Vowels:\", vowel_list)\n"
   ]
  },
  {
   "cell_type": "markdown",
   "id": "46112835-ef6c-48ad-ac29-657e2e06dbdb",
   "metadata": {},
   "source": [
    "## 30.Create a program that removes all non-numeric characters from a list of strings using list comprehension."
   ]
  },
  {
   "cell_type": "code",
   "execution_count": 6,
   "id": "1339decb-c209-4393-87c3-0046ad3016ca",
   "metadata": {},
   "outputs": [
    {
     "name": "stdout",
     "output_type": "stream",
     "text": [
      "Original List of Strings: ['abc123', '1x2y3z', 'hello', '42world']\n",
      "List with Non-Numeric Characters Removed: ['123', '123', '', '42']\n"
     ]
    }
   ],
   "source": [
    "# Input list of strings\n",
    "string_list = [\"abc123\", \"1x2y3z\", \"hello\", \"42world\"]\n",
    "\n",
    "# Use list comprehension to remove non-numeric characters from the strings\n",
    "numeric_only_list = [''.join(char for char in s if char.isnumeric()) for s in string_list]\n",
    "\n",
    "# Print the list with non-numeric characters removed\n",
    "print(\"Original List of Strings:\", string_list)\n",
    "print(\"List with Non-Numeric Characters Removed:\", numeric_only_list)\n"
   ]
  },
  {
   "cell_type": "markdown",
   "id": "d5d43ecd-d0d2-47a0-a31f-cff315a46377",
   "metadata": {},
   "source": [
    "# Challenge Level:"
   ]
  },
  {
   "cell_type": "markdown",
   "id": "d805b4c0-8d87-4258-b8b4-0e3015eddda4",
   "metadata": {},
   "source": [
    "## 31. Write a program to generate a list of prime numbers using the Sieve of Eratosthenes algorithm and list comprehension.\n"
   ]
  },
  {
   "cell_type": "code",
   "execution_count": 8,
   "id": "6d80781c-584e-4523-82ef-36595ba0538e",
   "metadata": {},
   "outputs": [
    {
     "name": "stdin",
     "output_type": "stream",
     "text": [
      "Enter the upper limit for prime number generation:  99\n"
     ]
    },
    {
     "name": "stdout",
     "output_type": "stream",
     "text": [
      "Prime Numbers up to 99 are: [2, 3, 5, 7, 11, 13, 17, 19, 23, 29, 31, 37, 41, 43, 47, 53, 59, 61, 67, 71, 73, 79, 83, 89, 97]\n"
     ]
    }
   ],
   "source": [
    "def sieve_eratosthenes(n):\n",
    "    sieve = [True] * (n + 1)\n",
    "    sieve[0] = sieve[1] = False\n",
    "    for current in range(2, int(n**0.5) + 1):\n",
    "        if sieve[current]:\n",
    "            for multiple in range(current*current, n + 1, current):\n",
    "                sieve[multiple] = False\n",
    "    primes = [num for num in range(2, n + 1) if sieve[num]]\n",
    "    return primes\n",
    "\n",
    "# Input the upper limit for prime number generation\n",
    "limit = int(input(\"Enter the upper limit for prime number generation: \"))\n",
    "\n",
    "# Generate the list of prime numbers using Sieve of Eratosthenes\n",
    "prime_numbers = sieve_eratosthenes(limit)\n",
    "\n",
    "# Print the list of prime numbers\n",
    "print(\"Prime Numbers up to\", limit, \"are:\", prime_numbers)"
   ]
  },
  {
   "cell_type": "markdown",
   "id": "d895a95c-9834-4862-982f-f0a6ff30a028",
   "metadata": {},
   "source": [
    "## 32. Create a program that generates a list of all Pythagorean triplets up to a specified limit using list comprehension."
   ]
  },
  {
   "cell_type": "code",
   "execution_count": 10,
   "id": "c74eb3f4-e86c-441c-9415-82e92884f71b",
   "metadata": {},
   "outputs": [
    {
     "name": "stdin",
     "output_type": "stream",
     "text": [
      "Enter the limit for Pythagorean triplets:  50\n"
     ]
    },
    {
     "name": "stdout",
     "output_type": "stream",
     "text": [
      "Pythagorean Triplets up to 50 are:\n",
      "(3, 4, 5)\n",
      "(5, 12, 13)\n",
      "(6, 8, 10)\n",
      "(7, 24, 25)\n",
      "(8, 15, 17)\n",
      "(9, 12, 15)\n",
      "(9, 40, 41)\n",
      "(10, 24, 26)\n",
      "(12, 16, 20)\n",
      "(12, 35, 37)\n",
      "(14, 48, 50)\n",
      "(15, 20, 25)\n",
      "(15, 36, 39)\n",
      "(16, 30, 34)\n",
      "(18, 24, 30)\n",
      "(20, 21, 29)\n",
      "(21, 28, 35)\n",
      "(24, 32, 40)\n",
      "(27, 36, 45)\n",
      "(30, 40, 50)\n"
     ]
    }
   ],
   "source": [
    "# Function to find Pythagorean triplets\n",
    "def pythagorean_triplets(limit):\n",
    "    triplets = [(a, b, c) for a in range(1, limit+1) for b in range(a, limit+1) for c in range(b, limit+1) if a**2 + b**2 == c**2]\n",
    "    return triplets\n",
    "\n",
    "# Input the limit for generating Pythagorean triplets\n",
    "limit = int(input(\"Enter the limit for Pythagorean triplets: \"))\n",
    "\n",
    "# Generate the list of Pythagorean triplets using list comprehension\n",
    "triplets = pythagorean_triplets(limit)\n",
    "\n",
    "# Print the list of Pythagorean triplets\n",
    "print(\"Pythagorean Triplets up to\", limit, \"are:\")\n",
    "for triplet in triplets:\n",
    "    print(triplet)\n"
   ]
  },
  {
   "cell_type": "markdown",
   "id": "dbf1ef23-3aa0-4c84-a4be-02c0b192329b",
   "metadata": {},
   "source": [
    "## 33. Develop a program that generates a list of all possible combinations of two lists using list comprehension."
   ]
  },
  {
   "cell_type": "code",
   "execution_count": 11,
   "id": "f136d17a-092b-4a7f-bf0a-6afe3e593402",
   "metadata": {},
   "outputs": [
    {
     "name": "stdout",
     "output_type": "stream",
     "text": [
      "List 1: [1, 2, 3]\n",
      "List 2: ['a', 'b', 'c']\n",
      "All Possible Combinations:\n",
      "(1, 'a')\n",
      "(1, 'b')\n",
      "(1, 'c')\n",
      "(2, 'a')\n",
      "(2, 'b')\n",
      "(2, 'c')\n",
      "(3, 'a')\n",
      "(3, 'b')\n",
      "(3, 'c')\n"
     ]
    }
   ],
   "source": [
    "# Input lists\n",
    "list1 = [1, 2, 3]\n",
    "list2 = ['a', 'b', 'c']\n",
    "\n",
    "# Use list comprehension to generate all possible combinations of elements from the two lists\n",
    "combinations = [(x, y) for x in list1 for y in list2]\n",
    "\n",
    "# Print the list of combinations\n",
    "print(\"List 1:\", list1)\n",
    "print(\"List 2:\", list2)\n",
    "print(\"All Possible Combinations:\")\n",
    "for combination in combinations:\n",
    "    print(combination)\n"
   ]
  },
  {
   "cell_type": "markdown",
   "id": "a71c998a-4993-46d2-9927-98da9104f53d",
   "metadata": {},
   "source": [
    "## 34. Write a program that calculates the mean, median, and mode of a list of numbers using list comprehension.\n"
   ]
  },
  {
   "cell_type": "code",
   "execution_count": 12,
   "id": "03f4ed3d-d4fe-42a8-913d-1b8845ddb5aa",
   "metadata": {},
   "outputs": [
    {
     "name": "stdout",
     "output_type": "stream",
     "text": [
      "List of Numbers: [1, 2, 3, 4, 5, 6, 7, 8, 9, 10]\n",
      "Mean: 5.5\n",
      "Median: 5.5\n",
      "Mode: 1\n"
     ]
    }
   ],
   "source": [
    "import statistics\n",
    "\n",
    "# Input list of numbers\n",
    "numbers = [1, 2, 3, 4, 5, 6, 7, 8, 9, 10]\n",
    "\n",
    "# Calculate the mean using list comprehension to sum the numbers\n",
    "mean = sum(numbers) / len(numbers)\n",
    "\n",
    "# Calculate the median using the statistics module\n",
    "median = statistics.median(numbers)\n",
    "\n",
    "# Calculate the mode using the statistics module\n",
    "mode = statistics.mode(numbers)\n",
    "\n",
    "# Print the results\n",
    "print(\"List of Numbers:\", numbers)\n",
    "print(\"Mean:\", mean)\n",
    "print(\"Median:\", median)\n",
    "print(\"Mode:\", mode)\n"
   ]
  },
  {
   "cell_type": "markdown",
   "id": "5b98aa89-1013-4f4c-ba48-2b498e115356",
   "metadata": {},
   "source": [
    "## 35.Create a program that generates Pascal's triangle up to a specified number of rows using list comprehension.\n"
   ]
  },
  {
   "cell_type": "code",
   "execution_count": null,
   "id": "a8e42e1a-763a-4a62-ba14-130096e35ad3",
   "metadata": {},
   "outputs": [],
   "source": [
    "def generate_pascals_triangle(num_rows):\n",
    "    triangle = [[1]]\n",
    "    for _ in range(1, num_rows):\n",
    "        previous_row = triangle[-1]\n",
    "        new_row = [1] + [previous_row[i] + previous_row[i + 1] for i in range(len(previous_row) - 1)] + [1]\n",
    "        triangle.append(new_row)\n",
    "    return triangle\n",
    "\n",
    "def print_pascals_triangle(triangle):\n",
    "    for row in triangle:\n",
    "        print(\" \".join(map(str, row)).center(len(\" \".join(map(str, triangle[-1]))))\n",
    "\n",
    "# Input the number of rows for Pascal's triangle\n",
    "num_rows = int(input(\"Enter the number of rows for Pascal's triangle: \"))\n",
    "\n",
    "# Generate Pascal's triangle\n",
    "pascals_triangle = generate_pascals_triangle(num_rows)\n",
    "\n",
    "# Print Pascal's triangle\n",
    "print_pascals_triangle(pascals_triangle)\n"
   ]
  },
  {
   "cell_type": "markdown",
   "id": "5577aeb0-c43a-4bc7-80b4-2e870c8390ad",
   "metadata": {},
   "source": [
    "## 36.Develop a program that calculates the sum of the digits of a factorial of numbers from 1 to 5 using list comperhension.\n"
   ]
  },
  {
   "cell_type": "code",
   "execution_count": 13,
   "id": "5c49406a-dff9-4653-bf24-a6d8708814ec",
   "metadata": {},
   "outputs": [
    {
     "name": "stdout",
     "output_type": "stream",
     "text": [
      "The sum of digits for 1! is 1\n",
      "The sum of digits for 2! is 2\n",
      "The sum of digits for 3! is 6\n",
      "The sum of digits for 4! is 6\n",
      "The sum of digits for 5! is 3\n"
     ]
    }
   ],
   "source": [
    "import math\n",
    "\n",
    "# Function to calculate the sum of the digits of a number\n",
    "def sum_of_digits(number):\n",
    "    return sum(int(digit) for digit in str(number))\n",
    "\n",
    "# Calculate the sum of digits for factorials of numbers from 1 to 5\n",
    "factorial_sums = [sum_of_digits(math.factorial(n)) for n in range(1, 6)]\n",
    "\n",
    "# Print the results\n",
    "for n, factorial_sum in enumerate(factorial_sums, start=1):\n",
    "    print(f\"The sum of digits for {n}! is {factorial_sum}\")\n"
   ]
  },
  {
   "cell_type": "markdown",
   "id": "1e35ba2c-b430-4924-9903-865adb91e14e",
   "metadata": {},
   "source": [
    "## 37. Write a program that finds the longest word in a sentence using list comprehension."
   ]
  },
  {
   "cell_type": "code",
   "execution_count": 14,
   "id": "69da6b71-6b5b-44f4-bbd8-41c3c06d5510",
   "metadata": {},
   "outputs": [
    {
     "name": "stdin",
     "output_type": "stream",
     "text": [
      "Enter a sentence:  python is an high level programming language.\n"
     ]
    },
    {
     "name": "stdout",
     "output_type": "stream",
     "text": [
      "The longest word in the sentence is: programming\n"
     ]
    }
   ],
   "source": [
    "# Input sentence\n",
    "sentence = input(\"Enter a sentence: \")\n",
    "\n",
    "# Split the sentence into words\n",
    "words = sentence.split()\n",
    "\n",
    "# Find the longest word using list comprehension\n",
    "longest_word = max(words, key=len)\n",
    "\n",
    "# Print the longest word\n",
    "print(f\"The longest word in the sentence is: {longest_word}\")\n"
   ]
  },
  {
   "cell_type": "markdown",
   "id": "1b22f953-9339-4326-b72c-2ae8f30deb1d",
   "metadata": {},
   "source": [
    "## 38. Create a program that filters a list of strings to include only those with more than three vowels using list comperhension\n"
   ]
  },
  {
   "cell_type": "code",
   "execution_count": 15,
   "id": "a336a184-3c8f-4d7a-98c9-84de1ea7b832",
   "metadata": {},
   "outputs": [
    {
     "name": "stdout",
     "output_type": "stream",
     "text": [
      "Original List of Strings: ['hello', 'world', 'programming', 'a', 'Python']\n",
      "Strings with More than Three Vowels: []\n"
     ]
    }
   ],
   "source": [
    "# Function to count the number of vowels in a string\n",
    "def count_vowels(string):\n",
    "    vowels = \"aeiouAEIOU\"\n",
    "    return sum(1 for char in string if char in vowels)\n",
    "\n",
    "# Input list of strings\n",
    "string_list = [\"hello\", \"world\", \"programming\", \"a\", \"Python\"]\n",
    "\n",
    "# Use list comprehension to filter strings with more than three vowels\n",
    "filtered_strings = [string for string in string_list if count_vowels(string) > 3]\n",
    "\n",
    "# Print the filtered list\n",
    "print(\"Original List of Strings:\", string_list)\n",
    "print(\"Strings with More than Three Vowels:\", filtered_strings)\n"
   ]
  },
  {
   "cell_type": "markdown",
   "id": "7647be2a-7942-4551-8dba-29c048fb9143",
   "metadata": {},
   "source": [
    "## 39. Develop a program that calculates the sum of the digits of numbers from 1 to 1000 using list comperhension\n"
   ]
  },
  {
   "cell_type": "code",
   "execution_count": 16,
   "id": "b8c7d812-05af-451d-8518-2522f5079c79",
   "metadata": {},
   "outputs": [
    {
     "name": "stdout",
     "output_type": "stream",
     "text": [
      "The sum of the digits of numbers from 1 to 1000 is: 13501\n"
     ]
    }
   ],
   "source": [
    "# Function to calculate the sum of the digits of a number\n",
    "def sum_of_digits(number):\n",
    "    return sum(int(digit) for digit in str(number))\n",
    "\n",
    "# Calculate the sum of digits for numbers from 1 to 1000 using list comprehension\n",
    "digit_sums = [sum_of_digits(n) for n in range(1, 1001)]\n",
    "\n",
    "# Print the results\n",
    "total_sum = sum(digit_sums)\n",
    "print(\"The sum of the digits of numbers from 1 to 1000 is:\", total_sum)\n"
   ]
  },
  {
   "cell_type": "markdown",
   "id": "8bdfa8ca-9502-4270-95f9-202db2f69ea5",
   "metadata": {},
   "source": [
    "## 40.Write a program that generates a list of prime palindromic numbers using list comprehension."
   ]
  },
  {
   "cell_type": "code",
   "execution_count": 17,
   "id": "e98d4e72-9a80-4e59-a290-955fdd5e293f",
   "metadata": {},
   "outputs": [
    {
     "name": "stdout",
     "output_type": "stream",
     "text": [
      "Prime Palindromic Numbers up to 1000 are: [2, 3, 5, 7, 11, 101, 131, 151, 181, 191, 313, 353, 373, 383, 727, 757, 787, 797, 919, 929]\n"
     ]
    }
   ],
   "source": [
    "def is_prime(number):\n",
    "    if number <= 1:\n",
    "        return False\n",
    "    if number <= 3:\n",
    "        return True\n",
    "    if number % 2 == 0 or number % 3 == 0:\n",
    "        return False\n",
    "    i = 5\n",
    "    while i * i <= number:\n",
    "        if number % i == 0 or number % (i + 2) == 0:\n",
    "            return False\n",
    "        i += 6\n",
    "    return True\n",
    "\n",
    "def is_palindrome(number):\n",
    "    return str(number) == str(number)[::-1]\n",
    "\n",
    "# Generate a list of prime palindromic numbers up to a certain limit using list comprehension\n",
    "limit = 1000\n",
    "prime_palindromic_numbers = [num for num in range(2, limit + 1) if is_prime(num) and is_palindrome(num)]\n",
    "\n",
    "# Print the list of prime palindromic numbers\n",
    "print(\"Prime Palindromic Numbers up to\", limit, \"are:\", prime_palindromic_numbers)"
   ]
  },
  {
   "cell_type": "code",
   "execution_count": null,
   "id": "1ca75719-81ef-40db-ac67-8f68e035f8c1",
   "metadata": {},
   "outputs": [],
   "source": []
  }
 ],
 "metadata": {
  "kernelspec": {
   "display_name": "Python 3 (ipykernel)",
   "language": "python",
   "name": "python3"
  },
  "language_info": {
   "codemirror_mode": {
    "name": "ipython",
    "version": 3
   },
   "file_extension": ".py",
   "mimetype": "text/x-python",
   "name": "python",
   "nbconvert_exporter": "python",
   "pygments_lexer": "ipython3",
   "version": "3.10.8"
  }
 },
 "nbformat": 4,
 "nbformat_minor": 5
}
